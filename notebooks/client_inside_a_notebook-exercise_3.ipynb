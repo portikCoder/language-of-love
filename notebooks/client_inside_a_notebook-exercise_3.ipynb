{
 "cells": [
  {
   "cell_type": "code",
   "execution_count": 1,
   "id": "9c376008",
   "metadata": {},
   "outputs": [],
   "source": [
    "# imports\n",
    "import json\n",
    "import pprint\n",
    "import time\n",
    "from http import HTTPStatus\n",
    "\n",
    "import requests as requests"
   ]
  },
  {
   "cell_type": "code",
   "execution_count": 2,
   "id": "6699b26e",
   "metadata": {},
   "outputs": [],
   "source": [
    "# declare the FLASK API url\n",
    "API_URL = \"http://127.0.0.1:5000/api\""
   ]
  },
  {
   "cell_type": "code",
   "execution_count": 3,
   "id": "075c696c",
   "metadata": {},
   "outputs": [],
   "source": [
    "# declare the input list\n",
    "INPUTS_TO_SEND = [\n",
    "    \"A loves B but A hates B, A hates B and A loves A.\",  # contains every checked errors\n",
    "    \"A hates B, A loves D while B loves C and D hates A.\",\n",
    "    \"\"\"A loves B but B hates A\n",
    "    D loves B and C loves A. \n",
    "    \"\"\",\n",
    "    \"\"\"\n",
    "    A loves B but B hates A and A loves D.\n",
    "    A hates B, A loves D while B loves C and D hates A.\n",
    "    A loves B, B loves A and B loves D.\n",
    "    A loves B but B hates A\n",
    "    D loves B and C loves A.\n",
    "    \"\"\",\n",
    "    \"A loves B but B hates A\",  # invalid one\n",
    "    \"\"  # invalid one\n",
    "]"
   ]
  },
  {
   "cell_type": "code",
   "execution_count": 4,
   "id": "ed2db286",
   "metadata": {},
   "outputs": [
    {
     "name": "stdout",
     "output_type": "stream",
     "text": [
      "Api URL: http://127.0.0.1:5000/api\n"
     ]
    }
   ],
   "source": [
    "print(\"Api URL:\", API_URL)"
   ]
  },
  {
   "cell_type": "code",
   "execution_count": 5,
   "id": "526c2fcb",
   "metadata": {},
   "outputs": [],
   "source": [
    "def call_flask_endpoint(api_full_url: str):\n",
    "    for input_to_send in INPUTS_TO_SEND:\n",
    "        result = requests.post(api_full_url, input_to_send)\n",
    "\n",
    "        print(\"\\n\\nInput sent:\", input_to_send, \"\\n\\tAPI request resultcode: \", result, \"\\n\\tParsed result:\", )\n",
    "        if result.status_code != HTTPStatus.BAD_REQUEST and result.content:\n",
    "            pprint.pprint(json.loads(result.content.decode('utf-8')))\n",
    "        else:\n",
    "            print(result.content)\n",
    "\n",
    "        time.sleep(2)"
   ]
  },
  {
   "cell_type": "code",
   "execution_count": 6,
   "id": "ab4cddc0",
   "metadata": {},
   "outputs": [],
   "source": [
    "SEMANTIC_VALIDATION_REQUIRED: bool = True"
   ]
  },
  {
   "cell_type": "code",
   "execution_count": 7,
   "id": "ceaabdc2",
   "metadata": {},
   "outputs": [
    {
     "name": "stdout",
     "output_type": "stream",
     "text": [
      "\n",
      "\n",
      "Input sent: A loves B but A hates B, A hates B and A loves A. \n",
      "\tAPI request resultcode:  <Response [409]> \n",
      "\tParsed result:\n",
      "[{'A loves B | but | A hates B | A hates B | and | A loves A': ['[LOVE&HATE '\n",
      "                                                                'THE SAME '\n",
      "                                                                \"TIME] 'A' \"\n",
      "                                                                'loves & hates '\n",
      "                                                                'at the same '\n",
      "                                                                'time for the '\n",
      "                                                                'same '\n",
      "                                                                'person(s) '\n",
      "                                                                \"'['B']', \"\n",
      "                                                                'which is not '\n",
      "                                                                'possible in '\n",
      "                                                                'this '\n",
      "                                                                'implementation!',\n",
      "                                                                '[REFLEXIVE-FEELING] '\n",
      "                                                                \"'A' loves \"\n",
      "                                                                \"itself, DON'T \"\n",
      "                                                                'be that '\n",
      "                                                                'selfish! At '\n",
      "                                                                'the current '\n",
      "                                                                'situation one '\n",
      "                                                                'cannot do '\n",
      "                                                                'that with '\n",
      "                                                                'itself, '\n",
      "                                                                'anyhow and '\n",
      "                                                                'much it '\n",
      "                                                                'wants. :(',\n",
      "                                                                '[FEELING '\n",
      "                                                                'REPETITION] '\n",
      "                                                                \"C'mon, you're \"\n",
      "                                                                'better than '\n",
      "                                                                'this! Do not '\n",
      "                                                                'repeat '\n",
      "                                                                \"yourself 'A', \"\n",
      "                                                                'we are '\n",
      "                                                                'getting bored '\n",
      "                                                                \"of '['B']' \"\n",
      "                                                                'and we do '\n",
      "                                                                'KNOW if you '\n",
      "                                                                'say it just '\n",
      "                                                                'once.']}]\n",
      "\n",
      "\n",
      "Input sent: A hates B, A loves D while B loves C and D hates A. \n",
      "\tAPI request resultcode:  <Response [200]> \n",
      "\tParsed result:\n",
      "[{'A': {'hates': ['B'], 'loves': ['D']},\n",
      "  'B': {'loves': ['C']},\n",
      "  'D': {'hates': ['A']}}]\n",
      "\n",
      "\n",
      "Input sent: A loves B but B hates A\n",
      "    D loves B and C loves A. \n",
      "     \n",
      "\tAPI request resultcode:  <Response [200]> \n",
      "\tParsed result:\n",
      "[{'A': {'loves': ['B']},\n",
      "  'B': {'hates': ['A']},\n",
      "  'C': {'loves': ['A']},\n",
      "  'D': {'loves': ['B']}}]\n",
      "\n",
      "\n",
      "Input sent: \n",
      "    A loves B but B hates A and A loves D.\n",
      "    A hates B, A loves D while B loves C and D hates A.\n",
      "    A loves B, B loves A and B loves D.\n",
      "    A loves B but B hates A\n",
      "    D loves B and C loves A.\n",
      "     \n",
      "\tAPI request resultcode:  <Response [200]> \n",
      "\tParsed result:\n",
      "[{'A': {'loves': ['B', 'D']}, 'B': {'hates': ['A']}},\n",
      " {'A': {'hates': ['B'], 'loves': ['D']},\n",
      "  'B': {'loves': ['C']},\n",
      "  'D': {'hates': ['A']}},\n",
      " {'A': {'loves': ['B']}, 'B': {'loves': ['A', 'D']}},\n",
      " {'A': {'loves': ['B']},\n",
      "  'B': {'hates': ['A']},\n",
      "  'C': {'loves': ['A']},\n",
      "  'D': {'loves': ['B']}}]\n",
      "\n",
      "\n",
      "Input sent: A loves B but B hates A \n",
      "\tAPI request resultcode:  <Response [400]> \n",
      "\tParsed result:\n",
      "b'The input is NOT VALID!'\n",
      "\n",
      "\n",
      "Input sent:  \n",
      "\tAPI request resultcode:  <Response [400]> \n",
      "\tParsed result:\n",
      "b'There is no input given!'\n"
     ]
    }
   ],
   "source": [
    "# call the right endpoint by will\n",
    "if SEMANTIC_VALIDATION_REQUIRED:\n",
    "    semantic_validated_endpoint_url = API_URL + \"/semanticvalidated\"\n",
    "    call_flask_endpoint(semantic_validated_endpoint_url)\n",
    "else:\n",
    "    default_endpoint_url = API_URL + \"/\"\n",
    "    call_flask_endpoint(default_endpoint_url)"
   ]
  }
 ],
 "metadata": {
  "kernelspec": {
   "display_name": "Python 3 (ipykernel)",
   "language": "python",
   "name": "python3"
  },
  "language_info": {
   "codemirror_mode": {
    "name": "ipython",
    "version": 3
   },
   "file_extension": ".py",
   "mimetype": "text/x-python",
   "name": "python",
   "nbconvert_exporter": "python",
   "pygments_lexer": "ipython3",
   "version": "3.8.5"
  }
 },
 "nbformat": 4,
 "nbformat_minor": 5
}
